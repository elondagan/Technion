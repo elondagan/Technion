{
 "cells": [
  {
   "cell_type": "code",
   "execution_count": 31,
   "outputs": [],
   "source": [
    "import importlib\n",
    "import pickle\n",
    "import constants_and_methods\n",
    "importlib.reload(constants_and_methods)\n",
    "from constants_and_methods import Card, RANKS, SUITS, evaluate_hand, expand_evaluate_hand, get_hand_rep, get_order_score"
   ],
   "metadata": {
    "collapsed": false,
    "pycharm": {
     "name": "#%%\n"
    }
   }
  },
  {
   "cell_type": "code",
   "execution_count": 32,
   "outputs": [],
   "source": [
    "with open('data/raw_split_data.pkl', 'rb') as file:\n",
    "    raw_data = pickle.load(file)\n",
    "raw_data_size = len(raw_data['_treatments'])"
   ],
   "metadata": {
    "collapsed": false,
    "pycharm": {
     "name": "#%%\n"
    }
   }
  },
  {
   "cell_type": "code",
   "execution_count": 33,
   "outputs": [
    {
     "data": {
      "text/plain": "dict_keys(['_treatments', '_outcomes', '_profits', '_raiser_caller_positions', '_open_sizes', '_raisers_stack', '_callers_stack', '_pot_sizes', '_flops_cards', '_hero_hands'])"
     },
     "execution_count": 33,
     "metadata": {},
     "output_type": "execute_result"
    }
   ],
   "source": [
    "raw_data.keys()"
   ],
   "metadata": {
    "collapsed": false,
    "pycharm": {
     "name": "#%%\n"
    }
   }
  },
  {
   "cell_type": "code",
   "execution_count": 34,
   "outputs": [
    {
     "data": {
      "text/plain": "939"
     },
     "execution_count": 34,
     "metadata": {},
     "output_type": "execute_result"
    }
   ],
   "source": [
    "raw_data_size"
   ],
   "metadata": {
    "collapsed": false,
    "pycharm": {
     "name": "#%%\n"
    }
   }
  },
  {
   "cell_type": "markdown",
   "source": [
    "# prepare Data"
   ],
   "metadata": {
    "collapsed": false,
    "pycharm": {
     "name": "#%% md\n"
    }
   }
  },
  {
   "cell_type": "markdown",
   "source": [
    "### flop & hero hand\n",
    "create a one-hot representation\n",
    "- hero hand is mapped into 196 possible categories (e.g. KdQs -> KQo)\n",
    "- hero hand + flop cards are mapped into 9 possible hand strengths (e.g. full house)\n",
    "- flop cards are mapped into 3 possible hand strengths (e.g. two pair)\n",
    "- haro hand + flop cards are mapped into 16 possible draws (e.g. flush draw)\n",
    "- flop cards are mapped into 4 possible draws\n",
    "- additional vector represent value order between hero hand and flop cards with 10 categories"
   ],
   "metadata": {
    "collapsed": false,
    "pycharm": {
     "name": "#%% md\n"
    }
   }
  },
  {
   "cell_type": "code",
   "execution_count": 35,
   "outputs": [],
   "source": [
    "suit_mapper = {'c': '♣', 'd': '♦', 'h': '♥', 's': '♠'}\n",
    "num_mapper = {'2': 2, '3': 3, '4': 4, '5': 5, '6': 6, '7': 7, '8': 8, '9': 9, 'T': 10, 'J': 11, 'Q': 12, 'K': 13, 'A': 14}"
   ],
   "metadata": {
    "collapsed": false,
    "pycharm": {
     "name": "#%%\n"
    }
   }
  },
  {
   "cell_type": "markdown",
   "source": [
    "convert cards into Card instance representation"
   ],
   "metadata": {
    "collapsed": false,
    "pycharm": {
     "name": "#%% md\n"
    }
   }
  },
  {
   "cell_type": "code",
   "execution_count": 36,
   "outputs": [],
   "source": [
    "flops_cards = []\n",
    "for flop in raw_data['_flops_cards']:\n",
    "    flop_rep = []\n",
    "    for str_card in flop:\n",
    "        int_val = num_mapper[str_card[0]]\n",
    "        suit_val = suit_mapper[str_card[1]]\n",
    "        flop_rep.append(Card(int_val, suit_val))\n",
    "    flops_cards.append(flop_rep)\n",
    "\n",
    "hero_hands = []\n",
    "for hand in raw_data['_hero_hands']:\n",
    "    fix_hand = [hand[1:3], hand[4:6]]\n",
    "    hand_rep = []\n",
    "    for card in fix_hand:\n",
    "        int_val = num_mapper[card[0]]\n",
    "        suit_val = suit_mapper[card[1]]\n",
    "        hand_rep.append(Card(int_val, suit_val))\n",
    "    hero_hands.append(hand_rep)"
   ],
   "metadata": {
    "collapsed": false,
    "pycharm": {
     "name": "#%%\n"
    }
   }
  },
  {
   "cell_type": "markdown",
   "source": [
    "map Hero hand into hash value"
   ],
   "metadata": {
    "collapsed": false,
    "pycharm": {
     "name": "#%% md\n"
    }
   }
  },
  {
   "cell_type": "code",
   "execution_count": 37,
   "outputs": [],
   "source": [
    "hands = []\n",
    "for hh in hero_hands:\n",
    "    hands.append(get_hand_rep(hh))"
   ],
   "metadata": {
    "collapsed": false,
    "pycharm": {
     "name": "#%%\n"
    }
   }
  },
  {
   "cell_type": "markdown",
   "source": [
    "map draws and potentials into hash value"
   ],
   "metadata": {
    "collapsed": false,
    "pycharm": {
     "name": "#%% md\n"
    }
   }
  },
  {
   "cell_type": "code",
   "execution_count": 38,
   "outputs": [],
   "source": [
    "def draws_to_int(draws_bools):\n",
    "    binary_list = [0 if v is False else 1 for v in draws_bools[::-1]]\n",
    "    binary_string = ''.join(map(str, binary_list))  # Converts list to \"0110\"\n",
    "    binary_value = int(binary_string, 2)  # Converts \"0110\" to integer 6\n",
    "    return binary_value"
   ],
   "metadata": {
    "collapsed": false,
    "pycharm": {
     "name": "#%%\n"
    }
   }
  },
  {
   "cell_type": "code",
   "execution_count": 39,
   "outputs": [],
   "source": [
    "hands_strength = []  # 0 to 9\n",
    "flops_strength = []  # 0 to 2\n",
    "hands_potential = []  # 0 to 15\n",
    "flops_potential = []  # 0 to 3\n",
    "\n",
    "for hh, f in zip(hero_hands, flops_cards):\n",
    "    hands_strength.append(evaluate_hand(hh+f).hand_rank)\n",
    "    flops_strength.append(evaluate_hand(f).hand_rank)\n",
    "    hands_potential.append(draws_to_int(expand_evaluate_hand(hh+f)))\n",
    "    flops_potential.append(draws_to_int(expand_evaluate_hand(f)))"
   ],
   "metadata": {
    "collapsed": false,
    "pycharm": {
     "name": "#%%\n"
    }
   }
  },
  {
   "cell_type": "markdown",
   "source": [
    "map order between hero hand and flop cards into hash value"
   ],
   "metadata": {
    "collapsed": false,
    "pycharm": {
     "name": "#%% md\n"
    }
   }
  },
  {
   "cell_type": "code",
   "execution_count": 40,
   "outputs": [],
   "source": [
    "cards_order = []\n",
    "for hh, f in zip(hero_hands, flops_cards):\n",
    "    cards_order.append(get_order_score(f, hh))"
   ],
   "metadata": {
    "collapsed": false,
    "pycharm": {
     "name": "#%%\n"
    }
   }
  },
  {
   "cell_type": "markdown",
   "source": [
    "### all other"
   ],
   "metadata": {
    "collapsed": false,
    "pycharm": {
     "name": "#%% md\n"
    }
   }
  },
  {
   "cell_type": "code",
   "execution_count": 41,
   "outputs": [],
   "source": [
    "treatment = raw_data['_treatments']\n",
    "outcomes = [0 if v == 'fold' else (1 if v == 'call' else 2) for v in raw_data['_outcomes']]  # label\n",
    "profits = raw_data['_profits']\n",
    "raiser_position = [v[0] for v in raw_data['_raiser_caller_positions']]  # to embedd (in [0,5[)\n",
    "caller_position = [v[1] for v in raw_data['_raiser_caller_positions']]  # to embedd (in [0,5])\n",
    "open_sizes = [v for v in raw_data['_open_sizes']]\n",
    "raiser_stack = [v for v in raw_data['_raisers_stack']]\n",
    "caller_stack = [v for v in raw_data['_callers_stack']]\n",
    "pot_size = [v for v in raw_data['_pot_sizes']]\n",
    "checked_to = [int(rp > cp) for rp, cp in zip(raiser_position, caller_position)]"
   ],
   "metadata": {
    "collapsed": false,
    "pycharm": {
     "name": "#%%\n"
    }
   }
  },
  {
   "cell_type": "markdown",
   "source": [
    "# Save"
   ],
   "metadata": {
    "collapsed": false,
    "pycharm": {
     "name": "#%% md\n"
    }
   }
  },
  {
   "cell_type": "code",
   "execution_count": 42,
   "outputs": [],
   "source": [
    "all_lists = [treatment, outcomes, raiser_position, caller_position, open_sizes, raiser_stack, caller_stack,\n",
    "             pot_size, checked_to, hands, hands_strength, flops_strength, hands_potential, flops_potential,\n",
    "             cards_order, profits]"
   ],
   "metadata": {
    "collapsed": false,
    "pycharm": {
     "name": "#%%\n"
    }
   }
  },
  {
   "cell_type": "code",
   "execution_count": 43,
   "outputs": [],
   "source": [
    "with open('data/lists_data.pkl', 'wb') as file:\n",
    "    pickle.dump(all_lists, file)"
   ],
   "metadata": {
    "collapsed": false,
    "pycharm": {
     "name": "#%%\n"
    }
   }
  },
  {
   "cell_type": "markdown",
   "source": [],
   "metadata": {
    "collapsed": false,
    "pycharm": {
     "name": "#%% md\n"
    }
   }
  }
 ],
 "metadata": {
  "kernelspec": {
   "display_name": "Python 3",
   "language": "python",
   "name": "python3"
  },
  "language_info": {
   "codemirror_mode": {
    "name": "ipython",
    "version": 2
   },
   "file_extension": ".py",
   "mimetype": "text/x-python",
   "name": "python",
   "nbconvert_exporter": "python",
   "pygments_lexer": "ipython2",
   "version": "2.7.6"
  }
 },
 "nbformat": 4,
 "nbformat_minor": 0
}